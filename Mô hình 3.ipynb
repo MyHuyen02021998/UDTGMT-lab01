{
 "cells": [
  {
   "cell_type": "code",
   "execution_count": 1,
   "metadata": {},
   "outputs": [
    {
     "name": "stderr",
     "output_type": "stream",
     "text": [
      "Using TensorFlow backend.\n"
     ]
    }
   ],
   "source": [
    "from subprocess import check_output\n",
    "import pandas as pd\n",
    "import numpy as np\n",
    "import warnings\n",
    "warnings.filterwarnings('ignore')\n",
    "import matplotlib.pyplot as plt\n",
    "from sklearn.model_selection import train_test_split\n",
    "from sklearn.metrics import classification_report\n",
    "import keras\n",
    "from keras.models import Sequential\n",
    "from keras.layers import Conv2D,MaxPooling2D,Dense,Flatten,Dropout, BatchNormalization\n",
    "from keras.optimizers import Adam\n",
    "from keras.callbacks import TensorBoard\n"
   ]
  },
  {
   "cell_type": "code",
   "execution_count": 2,
   "metadata": {},
   "outputs": [],
   "source": [
    "num_classes = 10   # Số lượng lớp"
   ]
  },
  {
   "cell_type": "code",
   "execution_count": 3,
   "metadata": {},
   "outputs": [],
   "source": [
    "# Đọc dữ liệu\n",
    "train_df = pd.read_csv('input/fashion-mnist_train.csv',sep=',')\n",
    "test_df = pd.read_csv('input/fashion-mnist_test.csv', sep = ',')"
   ]
  },
  {
   "cell_type": "code",
   "execution_count": 4,
   "metadata": {},
   "outputs": [],
   "source": [
    "train_data = np.array(train_df, dtype = 'float32')\n",
    "test_data = np.array(test_df, dtype='float32')"
   ]
  },
  {
   "cell_type": "code",
   "execution_count": 5,
   "metadata": {},
   "outputs": [],
   "source": [
    "# Thiết lập chuẩn hóa dữ liệu về đoạn [0,1]\n",
    "x_train = train_data[:,1:]/255\n",
    "\n",
    "y_train = train_data[:,0]\n",
    "\n",
    "x_test= test_data[:,1:]/255\n",
    "\n",
    "y_test=test_data[:,0]"
   ]
  },
  {
   "cell_type": "code",
   "execution_count": 6,
   "metadata": {},
   "outputs": [],
   "source": [
    "# Rút trích dữ liệu cho 80% huấn luyện và 20% là validation\n",
    "x_train,x_validate,y_train,y_validate = train_test_split(x_train,y_train,test_size = 0.2,random_state = 12345)"
   ]
  },
  {
   "cell_type": "code",
   "execution_count": 7,
   "metadata": {},
   "outputs": [
    {
     "data": {
      "image/png": "[encoded data removed]",
      "text/plain": [
       "<Figure size 432x288 with 1 Axes>"
      ]
     },
     "metadata": {
      "needs_background": "light"
     },
     "output_type": "display_data"
    }
   ],
   "source": [
    "# Thay đổi lại kích thước ảnh\n",
    "image = x_train[55,:].reshape((28,28))\n",
    "plt.imshow(image)\n",
    "plt.show()"
   ]
  },
  {
   "cell_type": "code",
   "execution_count": 8,
   "metadata": {},
   "outputs": [],
   "source": [
    "# Thiết lập các thông số\n",
    "image_rows = 28\n",
    "\n",
    "image_cols = 28\n",
    "\n",
    "batch_size = 512\n",
    "\n",
    "image_shape = (image_rows,image_cols,1) # Định nghĩa kích thước ảnh và 1 là cho ảnh 3D\n"
   ]
  },
  {
   "cell_type": "code",
   "execution_count": 9,
   "metadata": {},
   "outputs": [],
   "source": [
    "x_train = x_train.reshape(x_train.shape[0],*image_shape)\n",
    "x_test = x_test.reshape(x_test.shape[0],*image_shape)\n",
    "x_validate = x_validate.reshape(x_validate.shape[0],*image_shape)"
   ]
  },
  {
   "cell_type": "code",
   "execution_count": 10,
   "metadata": {},
   "outputs": [
    {
     "name": "stdout",
     "output_type": "stream",
     "text": [
      "Model: \"sequential_1\"\n",
      "_________________________________________________________________\n",
      "Layer (type)                 Output Shape              Param #   \n",
      "=================================================================\n",
      "conv2d_1 (Conv2D)            (None, 26, 26, 32)        320       \n",
      "_________________________________________________________________\n",
      "conv2d_2 (Conv2D)            (None, 24, 24, 32)        9248      \n",
      "_________________________________________________________________\n",
      "max_pooling2d_1 (MaxPooling2 (None, 12, 12, 32)        0         \n",
      "_________________________________________________________________\n",
      "dropout_1 (Dropout)          (None, 12, 12, 32)        0         \n",
      "_________________________________________________________________\n",
      "conv2d_3 (Conv2D)            (None, 10, 10, 64)        18496     \n",
      "_________________________________________________________________\n",
      "conv2d_4 (Conv2D)            (None, 8, 8, 64)          36928     \n",
      "_________________________________________________________________\n",
      "max_pooling2d_2 (MaxPooling2 (None, 4, 4, 64)          0         \n",
      "_________________________________________________________________\n",
      "dropout_2 (Dropout)          (None, 4, 4, 64)          0         \n",
      "_________________________________________________________________\n",
      "flatten_1 (Flatten)          (None, 1024)              0         \n",
      "_________________________________________________________________\n",
      "dense_1 (Dense)              (None, 512)               524800    \n",
      "_________________________________________________________________\n",
      "batch_normalization_1 (Batch (None, 512)               2048      \n",
      "_________________________________________________________________\n",
      "dropout_3 (Dropout)          (None, 512)               0         \n",
      "_________________________________________________________________\n",
      "dense_2 (Dense)              (None, 128)               65664     \n",
      "_________________________________________________________________\n",
      "batch_normalization_2 (Batch (None, 128)               512       \n",
      "_________________________________________________________________\n",
      "dropout_4 (Dropout)          (None, 128)               0         \n",
      "_________________________________________________________________\n",
      "dense_3 (Dense)              (None, 10)                1290      \n",
      "=================================================================\n",
      "Total params: 659,306\n",
      "Trainable params: 658,026\n",
      "Non-trainable params: 1,280\n",
      "_________________________________________________________________\n"
     ]
    }
   ],
   "source": [
    "# Mô hình mạng\n",
    "cnn_model = Sequential([\n",
    "    Conv2D(filters=32,kernel_size=3,activation='relu',input_shape = image_shape),\n",
    "    Conv2D(filters=32,kernel_size=3,activation='relu',input_shape = image_shape),\n",
    "    MaxPooling2D(pool_size=2) ,\n",
    "    Dropout(0.2),\n",
    "    \n",
    "    Conv2D(filters=64,kernel_size=3,activation='relu',input_shape = image_shape),\n",
    "    Conv2D(filters=64,kernel_size=3,activation='relu',input_shape = image_shape),\n",
    "    MaxPooling2D(pool_size=2) ,\n",
    "    Dropout(0.2),\n",
    "    \n",
    "    Flatten(),\n",
    "    Dense(512, activation='relu'),\n",
    "    BatchNormalization(),\n",
    "    Dropout(0.5),\n",
    "    Dense(128, activation='relu'),\n",
    "    BatchNormalization(),\n",
    "    Dropout(0.5),\n",
    "    Dense(10, activation='softmax')\n",
    "])\n",
    "\n",
    "# Show mô hình mạng\n",
    "cnn_model.summary()"
   ]
  },
  {
   "cell_type": "code",
   "execution_count": 11,
   "metadata": {},
   "outputs": [],
   "source": [
    "# Thực hiện biên soạn mô hình\n",
    "cnn_model.compile(loss ='sparse_categorical_crossentropy', optimizer=Adam(lr=0.001),metrics =['accuracy'])"
   ]
  },
  {
   "cell_type": "code",
   "execution_count": 12,
   "metadata": {},
   "outputs": [
    {
     "name": "stdout",
     "output_type": "stream",
     "text": [
      "Train on 48000 samples, validate on 12000 samples\n",
      "Epoch 1/50\n",
      "48000/48000 [==============================] - 62s 1ms/step - loss: 0.9756 - accuracy: 0.6681 - val_loss: 1.8235 - val_accuracy: 0.3627\n",
      "Epoch 2/50\n",
      "48000/48000 [==============================] - 59s 1ms/step - loss: 0.5469 - accuracy: 0.7996 - val_loss: 1.5184 - val_accuracy: 0.6657\n",
      "Epoch 3/50\n",
      "48000/48000 [==============================] - 61s 1ms/step - loss: 0.4450 - accuracy: 0.8399 - val_loss: 1.0318 - val_accuracy: 0.8695\n",
      "Epoch 4/50\n",
      "48000/48000 [==============================] - 61s 1ms/step - loss: 0.3857 - accuracy: 0.8619 - val_loss: 0.6469 - val_accuracy: 0.8653\n",
      "Epoch 5/50\n",
      "48000/48000 [==============================] - 60s 1ms/step - loss: 0.3509 - accuracy: 0.8757 - val_loss: 0.3846 - val_accuracy: 0.8992\n",
      "Epoch 6/50\n",
      "48000/48000 [==============================] - 62s 1ms/step - loss: 0.3253 - accuracy: 0.8836 - val_loss: 0.2898 - val_accuracy: 0.8934\n",
      "Epoch 7/50\n",
      "48000/48000 [==============================] - 59s 1ms/step - loss: 0.3059 - accuracy: 0.8898 - val_loss: 0.2693 - val_accuracy: 0.9023\n",
      "Epoch 8/50\n",
      "48000/48000 [==============================] - 59s 1ms/step - loss: 0.2856 - accuracy: 0.8988 - val_loss: 0.2482 - val_accuracy: 0.9060\n",
      "Epoch 9/50\n",
      "48000/48000 [==============================] - 62s 1ms/step - loss: 0.2780 - accuracy: 0.9001 - val_loss: 0.2297 - val_accuracy: 0.9143\n",
      "Epoch 10/50\n",
      "48000/48000 [==============================] - 66s 1ms/step - loss: 0.2656 - accuracy: 0.9053 - val_loss: 0.2375 - val_accuracy: 0.9133\n",
      "Epoch 11/50\n",
      "48000/48000 [==============================] - 58s 1ms/step - loss: 0.2569 - accuracy: 0.9068 - val_loss: 0.2333 - val_accuracy: 0.9142\n",
      "Epoch 12/50\n",
      "48000/48000 [==============================] - 63s 1ms/step - loss: 0.2479 - accuracy: 0.9108 - val_loss: 0.2351 - val_accuracy: 0.9147\n",
      "Epoch 13/50\n",
      "48000/48000 [==============================] - 62s 1ms/step - loss: 0.2362 - accuracy: 0.9153 - val_loss: 0.2399 - val_accuracy: 0.9103\n",
      "Epoch 14/50\n",
      "48000/48000 [==============================] - 61s 1ms/step - loss: 0.2330 - accuracy: 0.9155 - val_loss: 0.2151 - val_accuracy: 0.9233\n",
      "Epoch 15/50\n",
      "48000/48000 [==============================] - 62s 1ms/step - loss: 0.2209 - accuracy: 0.9210 - val_loss: 0.2139 - val_accuracy: 0.9227\n",
      "Epoch 16/50\n",
      "48000/48000 [==============================] - 62s 1ms/step - loss: 0.2176 - accuracy: 0.9224 - val_loss: 0.2151 - val_accuracy: 0.9224\n",
      "Epoch 17/50\n",
      "48000/48000 [==============================] - 62s 1ms/step - loss: 0.2093 - accuracy: 0.9245 - val_loss: 0.2016 - val_accuracy: 0.9264\n",
      "Epoch 18/50\n",
      "48000/48000 [==============================] - 62s 1ms/step - loss: 0.2083 - accuracy: 0.9248 - val_loss: 0.1998 - val_accuracy: 0.9262\n",
      "Epoch 19/50\n",
      "48000/48000 [==============================] - 62s 1ms/step - loss: 0.2032 - accuracy: 0.9270 - val_loss: 0.2127 - val_accuracy: 0.9238\n",
      "Epoch 20/50\n",
      "48000/48000 [==============================] - 57s 1ms/step - loss: 0.1937 - accuracy: 0.9308 - val_loss: 0.2070 - val_accuracy: 0.9242\n",
      "Epoch 21/50\n",
      "48000/48000 [==============================] - 57s 1ms/step - loss: 0.1907 - accuracy: 0.9303 - val_loss: 0.2107 - val_accuracy: 0.9222\n",
      "Epoch 22/50\n",
      "48000/48000 [==============================] - 59s 1ms/step - loss: 0.1843 - accuracy: 0.9335 - val_loss: 0.2001 - val_accuracy: 0.9256\n",
      "Epoch 23/50\n",
      "48000/48000 [==============================] - 58s 1ms/step - loss: 0.1783 - accuracy: 0.9356 - val_loss: 0.1957 - val_accuracy: 0.9303\n",
      "Epoch 24/50\n",
      "48000/48000 [==============================] - 59s 1ms/step - loss: 0.1757 - accuracy: 0.9361 - val_loss: 0.1977 - val_accuracy: 0.9286\n",
      "Epoch 25/50\n",
      "48000/48000 [==============================] - 58s 1ms/step - loss: 0.1736 - accuracy: 0.9372 - val_loss: 0.2039 - val_accuracy: 0.9276\n",
      "Epoch 26/50\n",
      "48000/48000 [==============================] - 60s 1ms/step - loss: 0.1685 - accuracy: 0.9390 - val_loss: 0.1999 - val_accuracy: 0.9293\n",
      "Epoch 27/50\n",
      "48000/48000 [==============================] - 58s 1ms/step - loss: 0.1667 - accuracy: 0.9390 - val_loss: 0.1974 - val_accuracy: 0.9310\n",
      "Epoch 28/50\n",
      "48000/48000 [==============================] - 57s 1ms/step - loss: 0.1588 - accuracy: 0.9420 - val_loss: 0.2011 - val_accuracy: 0.9268\n",
      "Epoch 29/50\n",
      "48000/48000 [==============================] - 60s 1ms/step - loss: 0.1547 - accuracy: 0.9444 - val_loss: 0.2055 - val_accuracy: 0.9303\n",
      "Epoch 30/50\n",
      "48000/48000 [==============================] - 62s 1ms/step - loss: 0.1551 - accuracy: 0.9439 - val_loss: 0.2011 - val_accuracy: 0.9300\n",
      "Epoch 31/50\n",
      "48000/48000 [==============================] - 57s 1ms/step - loss: 0.1533 - accuracy: 0.9447 - val_loss: 0.2107 - val_accuracy: 0.9271\n",
      "Epoch 32/50\n",
      "48000/48000 [==============================] - 58s 1ms/step - loss: 0.1463 - accuracy: 0.9470 - val_loss: 0.1980 - val_accuracy: 0.9319\n",
      "Epoch 33/50\n",
      "48000/48000 [==============================] - 61s 1ms/step - loss: 0.1447 - accuracy: 0.9484 - val_loss: 0.1979 - val_accuracy: 0.9329\n",
      "Epoch 34/50\n",
      "48000/48000 [==============================] - 59s 1ms/step - loss: 0.1414 - accuracy: 0.9486 - val_loss: 0.1975 - val_accuracy: 0.9309\n",
      "Epoch 35/50\n",
      "48000/48000 [==============================] - 55s 1ms/step - loss: 0.1343 - accuracy: 0.9524 - val_loss: 0.2036 - val_accuracy: 0.9327\n",
      "Epoch 36/50\n",
      "48000/48000 [==============================] - 54s 1ms/step - loss: 0.1405 - accuracy: 0.9496 - val_loss: 0.2069 - val_accuracy: 0.9287\n",
      "Epoch 37/50\n",
      "48000/48000 [==============================] - 54s 1ms/step - loss: 0.1300 - accuracy: 0.9524 - val_loss: 0.2070 - val_accuracy: 0.9325\n",
      "Epoch 38/50\n",
      "48000/48000 [==============================] - 55s 1ms/step - loss: 0.1270 - accuracy: 0.9539 - val_loss: 0.2090 - val_accuracy: 0.9282\n",
      "Epoch 39/50\n",
      "48000/48000 [==============================] - 55s 1ms/step - loss: 0.1260 - accuracy: 0.9546 - val_loss: 0.2106 - val_accuracy: 0.9302\n",
      "Epoch 40/50\n",
      "48000/48000 [==============================] - 54s 1ms/step - loss: 0.1249 - accuracy: 0.9549 - val_loss: 0.2066 - val_accuracy: 0.9329\n",
      "Epoch 41/50\n",
      "48000/48000 [==============================] - 54s 1ms/step - loss: 0.1204 - accuracy: 0.9562 - val_loss: 0.2009 - val_accuracy: 0.9329\n",
      "Epoch 42/50\n",
      "48000/48000 [==============================] - 54s 1ms/step - loss: 0.1233 - accuracy: 0.9553 - val_loss: 0.2052 - val_accuracy: 0.9329\n",
      "Epoch 43/50\n",
      "48000/48000 [==============================] - 55s 1ms/step - loss: 0.1197 - accuracy: 0.9566 - val_loss: 0.2099 - val_accuracy: 0.9320\n",
      "Epoch 44/50\n",
      "48000/48000 [==============================] - 55s 1ms/step - loss: 0.1186 - accuracy: 0.9568 - val_loss: 0.2089 - val_accuracy: 0.9335\n",
      "Epoch 45/50\n",
      "48000/48000 [==============================] - 59s 1ms/step - loss: 0.1133 - accuracy: 0.9588 - val_loss: 0.2225 - val_accuracy: 0.9298\n",
      "Epoch 46/50\n",
      "48000/48000 [==============================] - 59s 1ms/step - loss: 0.1123 - accuracy: 0.9593 - val_loss: 0.2113 - val_accuracy: 0.9333\n",
      "Epoch 47/50\n",
      "48000/48000 [==============================] - 58s 1ms/step - loss: 0.1087 - accuracy: 0.9604 - val_loss: 0.2199 - val_accuracy: 0.9322\n",
      "Epoch 48/50\n",
      "48000/48000 [==============================] - 57s 1ms/step - loss: 0.1092 - accuracy: 0.9605 - val_loss: 0.2069 - val_accuracy: 0.9339\n",
      "Epoch 49/50\n",
      "48000/48000 [==============================] - 63s 1ms/step - loss: 0.1037 - accuracy: 0.9632 - val_loss: 0.2231 - val_accuracy: 0.9286\n",
      "Epoch 50/50\n",
      "48000/48000 [==============================] - 60s 1ms/step - loss: 0.1064 - accuracy: 0.9612 - val_loss: 0.2174 - val_accuracy: 0.9315\n"
     ]
    }
   ],
   "source": [
    "# Hàm thực thi với số epoch là 50 và kích thước mỗi batch là 512\n",
    "history = cnn_model.fit(x_train,y_train,batch_size=batch_size,epochs=50, verbose=1,\n",
    "validation_data=(x_validate,y_validate),\n",
    ")"
   ]
  },
  {
   "cell_type": "markdown",
   "metadata": {},
   "source": [
    "Đánh giá độ chính xác trên tập test"
   ]
  },
  {
   "cell_type": "code",
   "execution_count": 13,
   "metadata": {},
   "outputs": [
    {
     "name": "stdout",
     "output_type": "stream",
     "text": [
      "              precision    recall  f1-score   support\n",
      "\n",
      "     Class 0       0.84      0.93      0.88      1000\n",
      "     Class 1       0.99      0.99      0.99      1000\n",
      "     Class 2       0.91      0.92      0.91      1000\n",
      "     Class 3       0.93      0.94      0.94      1000\n",
      "     Class 4       0.89      0.93      0.91      1000\n",
      "     Class 5       0.99      0.98      0.99      1000\n",
      "     Class 6       0.88      0.73      0.80      1000\n",
      "     Class 7       0.96      0.98      0.97      1000\n",
      "     Class 8       0.99      0.99      0.99      1000\n",
      "     Class 9       0.98      0.97      0.98      1000\n",
      "\n",
      "    accuracy                           0.94     10000\n",
      "   macro avg       0.94      0.94      0.94     10000\n",
      "weighted avg       0.94      0.94      0.94     10000\n",
      "\n"
     ]
    }
   ],
   "source": [
    "# Thực hiện dự đoán lớp trên tập fashion-mnist_test\n",
    "predicted_classes = cnn_model.predict_classes(x_test)\n",
    "\n",
    "#get the indices to be plotted\n",
    "\n",
    "y_true = test_df.iloc[:, 0]\n",
    "\n",
    "correct = np.nonzero(predicted_classes==y_true)[0]\n",
    "\n",
    "incorrect = np.nonzero(predicted_classes!=y_true)[0]\n",
    "\n",
    "target_names = [\"Class {}\".format(i) for i in range(num_classes)]\n",
    "\n",
    "print(classification_report(y_true, predicted_classes, target_names=target_names))"
   ]
  },
  {
   "cell_type": "code",
   "execution_count": null,
   "metadata": {},
   "outputs": [],
   "source": []
  }
 ],
 "metadata": {
  "kernelspec": {
   "display_name": "Python 3",
   "language": "python",
   "name": "python3"
  },
  "language_info": {
   "codemirror_mode": {
    "name": "ipython",
    "version": 3
   },
   "file_extension": ".py",
   "mimetype": "text/x-python",
   "name": "python",
   "nbconvert_exporter": "python",
   "pygments_lexer": "ipython3",
   "version": "3.7.4"
  }
 },
 "nbformat": 4,
 "nbformat_minor": 2
}
