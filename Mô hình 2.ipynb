{
 "cells": [
  {
   "cell_type": "code",
   "execution_count": 1,
   "metadata": {},
   "outputs": [
    {
     "name": "stderr",
     "output_type": "stream",
     "text": [
      "Using TensorFlow backend.\n"
     ]
    }
   ],
   "source": [
    "from subprocess import check_output\n",
    "import pandas as pd\n",
    "import numpy as np\n",
    "import warnings\n",
    "warnings.filterwarnings('ignore')\n",
    "import matplotlib.pyplot as plt\n",
    "from sklearn.model_selection import train_test_split\n",
    "from sklearn.metrics import classification_report\n",
    "import keras\n",
    "from keras.models import Sequential\n",
    "from keras.layers import Conv2D,MaxPooling2D,Dense,Flatten,Dropout, BatchNormalization\n",
    "from keras.optimizers import Adam\n",
    "from keras.callbacks import TensorBoard\n"
   ]
  },
  {
   "cell_type": "code",
   "execution_count": 2,
   "metadata": {},
   "outputs": [],
   "source": [
    "num_classes = 10   # Số lượng lớp"
   ]
  },
  {
   "cell_type": "code",
   "execution_count": 3,
   "metadata": {},
   "outputs": [],
   "source": [
    "# Đọc dữ liệu\n",
    "train_df = pd.read_csv('input/fashion-mnist_train.csv',sep=',')\n",
    "test_df = pd.read_csv('input/fashion-mnist_test.csv', sep = ',')"
   ]
  },
  {
   "cell_type": "code",
   "execution_count": 4,
   "metadata": {},
   "outputs": [],
   "source": [
    "train_data = np.array(train_df, dtype = 'float32')\n",
    "test_data = np.array(test_df, dtype='float32')"
   ]
  },
  {
   "cell_type": "code",
   "execution_count": 5,
   "metadata": {},
   "outputs": [],
   "source": [
    "# Thiết lập chuẩn hóa dữ liệu về đoạn [0,1]\n",
    "x_train = train_data[:,1:]/255\n",
    "\n",
    "y_train = train_data[:,0]\n",
    "\n",
    "x_test= test_data[:,1:]/255\n",
    "\n",
    "y_test=test_data[:,0]"
   ]
  },
  {
   "cell_type": "code",
   "execution_count": 6,
   "metadata": {},
   "outputs": [],
   "source": [
    "# Rút trích dữ liệu cho 80% huấn luyện và 20% là test\n",
    "x_train,x_validate,y_train,y_validate = train_test_split(x_train,y_train,test_size = 0.2,random_state = 12345)"
   ]
  },
  {
   "cell_type": "code",
   "execution_count": 7,
   "metadata": {},
   "outputs": [
    {
     "data": {
      "image/png": "[encoded data removed]",
      "text/plain": [
       "<Figure size 432x288 with 1 Axes>"
      ]
     },
     "metadata": {
      "needs_background": "light"
     },
     "output_type": "display_data"
    }
   ],
   "source": [
    "# Thay đổi lại kích thước dữ liệu\n",
    "image = x_train[55,:].reshape((28,28))\n",
    "plt.imshow(image)\n",
    "plt.show()"
   ]
  },
  {
   "cell_type": "code",
   "execution_count": 8,
   "metadata": {},
   "outputs": [],
   "source": [
    "# Thiết lập các thông số\n",
    "image_rows = 28\n",
    "\n",
    "image_cols = 28\n",
    "\n",
    "batch_size = 512\n",
    "\n",
    "image_shape = (image_rows,image_cols,1) # Định nghĩa kích thước ảnh và 1 là cho ảnh 3D\n"
   ]
  },
  {
   "cell_type": "code",
   "execution_count": 9,
   "metadata": {},
   "outputs": [],
   "source": [
    "x_train = x_train.reshape(x_train.shape[0],*image_shape)\n",
    "x_test = x_test.reshape(x_test.shape[0],*image_shape)\n",
    "x_validate = x_validate.reshape(x_validate.shape[0],*image_shape)"
   ]
  },
  {
   "cell_type": "code",
   "execution_count": 11,
   "metadata": {},
   "outputs": [
    {
     "name": "stdout",
     "output_type": "stream",
     "text": [
      "Model: \"sequential_2\"\n",
      "_________________________________________________________________\n",
      "Layer (type)                 Output Shape              Param #   \n",
      "=================================================================\n",
      "conv2d_5 (Conv2D)            (None, 28, 28, 32)        320       \n",
      "_________________________________________________________________\n",
      "batch_normalization_6 (Batch (None, 28, 28, 32)        128       \n",
      "_________________________________________________________________\n",
      "conv2d_6 (Conv2D)            (None, 28, 28, 32)        9248      \n",
      "_________________________________________________________________\n",
      "batch_normalization_7 (Batch (None, 28, 28, 32)        128       \n",
      "_________________________________________________________________\n",
      "dropout_6 (Dropout)          (None, 28, 28, 32)        0         \n",
      "_________________________________________________________________\n",
      "conv2d_7 (Conv2D)            (None, 28, 28, 64)        18496     \n",
      "_________________________________________________________________\n",
      "max_pooling2d_2 (MaxPooling2 (None, 14, 14, 64)        0         \n",
      "_________________________________________________________________\n",
      "dropout_7 (Dropout)          (None, 14, 14, 64)        0         \n",
      "_________________________________________________________________\n",
      "conv2d_8 (Conv2D)            (None, 14, 14, 128)       73856     \n",
      "_________________________________________________________________\n",
      "batch_normalization_8 (Batch (None, 14, 14, 128)       512       \n",
      "_________________________________________________________________\n",
      "dropout_8 (Dropout)          (None, 14, 14, 128)       0         \n",
      "_________________________________________________________________\n",
      "flatten_2 (Flatten)          (None, 25088)             0         \n",
      "_________________________________________________________________\n",
      "dense_4 (Dense)              (None, 512)               12845568  \n",
      "_________________________________________________________________\n",
      "batch_normalization_9 (Batch (None, 512)               2048      \n",
      "_________________________________________________________________\n",
      "dropout_9 (Dropout)          (None, 512)               0         \n",
      "_________________________________________________________________\n",
      "dense_5 (Dense)              (None, 128)               65664     \n",
      "_________________________________________________________________\n",
      "batch_normalization_10 (Batc (None, 128)               512       \n",
      "_________________________________________________________________\n",
      "dropout_10 (Dropout)         (None, 128)               0         \n",
      "_________________________________________________________________\n",
      "dense_6 (Dense)              (None, 10)                1290      \n",
      "=================================================================\n",
      "Total params: 13,017,770\n",
      "Trainable params: 13,016,106\n",
      "Non-trainable params: 1,664\n",
      "_________________________________________________________________\n"
     ]
    }
   ],
   "source": [
    "# Building a ConvNet\n",
    "model = Sequential()\n",
    "model.add(Conv2D(filters=32, kernel_size=(3, 3), activation='relu', strides=1, padding='same', \n",
    "                 data_format='channels_last', input_shape=(28,28,1)))\n",
    "model.add(BatchNormalization())\n",
    "\n",
    "model.add(Conv2D(filters=32, kernel_size=(3, 3), activation='relu', strides=1, padding='same', \n",
    "                 data_format='channels_last'))\n",
    "model.add(BatchNormalization())\n",
    "model.add(Dropout(0.25))\n",
    "\n",
    "model.add(Conv2D(filters=64, kernel_size=(3, 3), activation='relu', strides=1, padding='same', \n",
    "                 data_format='channels_last'))\n",
    "model.add(MaxPooling2D(pool_size=(2, 2)))\n",
    "model.add(Dropout(0.25))\n",
    "    \n",
    "    \n",
    "model.add(Conv2D(filters=128, kernel_size=(3, 3), activation='relu', strides=1, padding='same', \n",
    "                 data_format='channels_last'))\n",
    "model.add(BatchNormalization())\n",
    "model.add(Dropout(0.25))\n",
    "\n",
    "model.add(Flatten())\n",
    "model.add(Dense(512, activation='relu'))\n",
    "model.add(BatchNormalization())\n",
    "model.add(Dropout(0.5))\n",
    "model.add(Dense(128, activation='relu'))\n",
    "model.add(BatchNormalization())\n",
    "model.add(Dropout(0.5))\n",
    "model.add(Dense(10, activation='softmax'))\n",
    "\n",
    "# Show mô hình mạng\n",
    "model.summary()\n",
    "\n",
    "# Biên soạn mô hình\n",
    "model.compile(loss ='sparse_categorical_crossentropy', optimizer=Adam(lr=0.001),metrics =['accuracy'])"
   ]
  },
  {
   "cell_type": "code",
   "execution_count": 4,
   "metadata": {},
   "outputs": [
    {
     "name": "stdout",
     "output_type": "stream",
     "text": [
      "Train on 48000 samples, validate on 12000 samples\n",
      "Epoch 1/40\n",
      "48000/48000 [==============================] - 363s 8ms/step - loss: 0.5384 - accuracy: 0.8142 - val_loss: 1.0141 - val_accuracy: 0.6718\n",
      "Epoch 2/40\n",
      "48000/48000 [==============================] - 356s 7ms/step - loss: 0.3322 - accuracy: 0.8834 - val_loss: 0.2710 - val_accuracy: 0.9027\n",
      "Epoch 3/40\n",
      "48000/48000 [==============================] - 354s 7ms/step - loss: 0.2750 - accuracy: 0.9026 - val_loss: 0.2570 - val_accuracy: 0.9072\n",
      "Epoch 4/40\n",
      "48000/48000 [==============================] - 354s 7ms/step - loss: 0.2441 - accuracy: 0.9129 - val_loss: 0.2001 - val_accuracy: 0.9225\n",
      "Epoch 5/40\n",
      "48000/48000 [==============================] - 354s 7ms/step - loss: 0.2204 - accuracy: 0.9221 - val_loss: 0.1959 - val_accuracy: 0.9285\n",
      "Epoch 6/40\n",
      "48000/48000 [==============================] - 11794s 246ms/step - loss: 0.1989 - accuracy: 0.9293 - val_loss: 0.2213 - val_accuracy: 0.9168\n",
      "Epoch 7/40\n",
      "48000/48000 [==============================] - 427s 9ms/step - loss: 0.1829 - accuracy: 0.9333 - val_loss: 0.1928 - val_accuracy: 0.9289\n",
      "Epoch 8/40\n",
      "48000/48000 [==============================] - 413s 9ms/step - loss: 0.1739 - accuracy: 0.9372 - val_loss: 0.1967 - val_accuracy: 0.9297\n",
      "Epoch 9/40\n",
      "48000/48000 [==============================] - 385s 8ms/step - loss: 0.1540 - accuracy: 0.9446 - val_loss: 0.1869 - val_accuracy: 0.9323\n",
      "Epoch 10/40\n",
      "48000/48000 [==============================] - 385s 8ms/step - loss: 0.1431 - accuracy: 0.9486 - val_loss: 0.1889 - val_accuracy: 0.9322\n",
      "Epoch 11/40\n",
      "48000/48000 [==============================] - 373s 8ms/step - loss: 0.1323 - accuracy: 0.9531 - val_loss: 0.1932 - val_accuracy: 0.9323\n",
      "Epoch 12/40\n",
      "48000/48000 [==============================] - 364s 8ms/step - loss: 0.1240 - accuracy: 0.9553 - val_loss: 0.2682 - val_accuracy: 0.9161\n",
      "Epoch 13/40\n",
      "48000/48000 [==============================] - 356s 7ms/step - loss: 0.1168 - accuracy: 0.9584 - val_loss: 0.1931 - val_accuracy: 0.9355\n",
      "Epoch 14/40\n",
      "48000/48000 [==============================] - 357s 7ms/step - loss: 0.1085 - accuracy: 0.9609 - val_loss: 0.1913 - val_accuracy: 0.9370\n",
      "Epoch 15/40\n",
      "48000/48000 [==============================] - 357s 7ms/step - loss: 0.0966 - accuracy: 0.9651 - val_loss: 0.1878 - val_accuracy: 0.9383\n",
      "Epoch 16/40\n",
      "48000/48000 [==============================] - 359s 7ms/step - loss: 0.0938 - accuracy: 0.9665 - val_loss: 0.1868 - val_accuracy: 0.9376\n",
      "Epoch 17/40\n",
      "48000/48000 [==============================] - 413s 9ms/step - loss: 0.0836 - accuracy: 0.9709 - val_loss: 0.1934 - val_accuracy: 0.9368\n",
      "Epoch 18/40\n",
      "48000/48000 [==============================] - 479s 10ms/step - loss: 0.0772 - accuracy: 0.9734 - val_loss: 0.2019 - val_accuracy: 0.9373\n",
      "Epoch 19/40\n",
      "48000/48000 [==============================] - 356s 7ms/step - loss: 0.0717 - accuracy: 0.9741 - val_loss: 0.2246 - val_accuracy: 0.9327\n",
      "Epoch 20/40\n",
      "48000/48000 [==============================] - 513s 11ms/step - loss: 0.0677 - accuracy: 0.9768 - val_loss: 0.2246 - val_accuracy: 0.9337\n",
      "Epoch 21/40\n",
      "48000/48000 [==============================] - 525s 11ms/step - loss: 0.0633 - accuracy: 0.9773 - val_loss: 0.2299 - val_accuracy: 0.9355\n",
      "Epoch 22/40\n",
      "48000/48000 [==============================] - 515s 11ms/step - loss: 0.0590 - accuracy: 0.9797 - val_loss: 0.2334 - val_accuracy: 0.9340\n",
      "Epoch 23/40\n",
      "48000/48000 [==============================] - 513s 11ms/step - loss: 0.0551 - accuracy: 0.9808 - val_loss: 0.2375 - val_accuracy: 0.9342\n",
      "Epoch 24/40\n",
      "48000/48000 [==============================] - 572s 12ms/step - loss: 0.0533 - accuracy: 0.9813 - val_loss: 0.2479 - val_accuracy: 0.9373\n",
      "Epoch 25/40\n",
      "48000/48000 [==============================] - 577s 12ms/step - loss: 0.0520 - accuracy: 0.9812 - val_loss: 0.2115 - val_accuracy: 0.9413\n",
      "Epoch 26/40\n",
      "48000/48000 [==============================] - 580s 12ms/step - loss: 0.0498 - accuracy: 0.9826 - val_loss: 0.2217 - val_accuracy: 0.9400\n",
      "Epoch 27/40\n",
      "48000/48000 [==============================] - 540s 11ms/step - loss: 0.0432 - accuracy: 0.9848 - val_loss: 0.2373 - val_accuracy: 0.9410\n",
      "Epoch 28/40\n",
      "48000/48000 [==============================] - 586s 12ms/step - loss: 0.0430 - accuracy: 0.9846 - val_loss: 0.2273 - val_accuracy: 0.9388\n",
      "Epoch 29/40\n",
      "48000/48000 [==============================] - 525s 11ms/step - loss: 0.0430 - accuracy: 0.9847 - val_loss: 0.2400 - val_accuracy: 0.9367\n",
      "Epoch 30/40\n",
      "48000/48000 [==============================] - 479s 10ms/step - loss: 0.0406 - accuracy: 0.9861 - val_loss: 0.2518 - val_accuracy: 0.9377\n",
      "Epoch 31/40\n",
      "48000/48000 [==============================] - 504s 11ms/step - loss: 0.0360 - accuracy: 0.9877 - val_loss: 0.2502 - val_accuracy: 0.9427\n",
      "Epoch 32/40\n",
      "48000/48000 [==============================] - 483s 10ms/step - loss: 0.0383 - accuracy: 0.9861 - val_loss: 0.2487 - val_accuracy: 0.9371\n",
      "Epoch 33/40\n",
      "48000/48000 [==============================] - 461s 10ms/step - loss: 0.0348 - accuracy: 0.9879 - val_loss: 0.2733 - val_accuracy: 0.9348\n",
      "Epoch 34/40\n",
      "48000/48000 [==============================] - 460s 10ms/step - loss: 0.0366 - accuracy: 0.9877 - val_loss: 0.2646 - val_accuracy: 0.9371\n",
      "Epoch 35/40\n",
      "48000/48000 [==============================] - 486s 10ms/step - loss: 0.0345 - accuracy: 0.9879 - val_loss: 0.2560 - val_accuracy: 0.9394\n",
      "Epoch 36/40\n",
      "48000/48000 [==============================] - 356s 7ms/step - loss: 0.0347 - accuracy: 0.9879 - val_loss: 0.2530 - val_accuracy: 0.9391\n",
      "Epoch 37/40\n",
      "48000/48000 [==============================] - 360s 7ms/step - loss: 0.0319 - accuracy: 0.9889 - val_loss: 0.2456 - val_accuracy: 0.9398\n",
      "Epoch 38/40\n",
      "48000/48000 [==============================] - 358s 7ms/step - loss: 0.0279 - accuracy: 0.9905 - val_loss: 0.2536 - val_accuracy: 0.9404\n",
      "Epoch 39/40\n",
      "48000/48000 [==============================] - 373s 8ms/step - loss: 0.0280 - accuracy: 0.9899 - val_loss: 0.2496 - val_accuracy: 0.9419\n",
      "Epoch 40/40\n",
      "48000/48000 [==============================] - 517s 11ms/step - loss: 0.0293 - accuracy: 0.9906 - val_loss: 0.2823 - val_accuracy: 0.9370\n"
     ]
    }
   ],
   "source": [
    "history = model.fit(\n",
    "    x_train,\n",
    "    y_train,\n",
    "    batch_size= 128,\n",
    "    epochs = 40,\n",
    "    verbose = 1,\n",
    "    validation_data=(x_validate,y_validate),\n",
    ")"
   ]
  },
  {
   "cell_type": "code",
   "execution_count": 6,
   "metadata": {},
   "outputs": [
    {
     "name": "stdout",
     "output_type": "stream",
     "text": [
      "Test Loss : 0.2634\n",
      "Test Accuracy : 0.9405\n"
     ]
    }
   ],
   "source": [
    "score = model.evaluate(x_test,y_test,verbose=0)\n",
    "print('Test Loss : {:.4f}'.format(score[0]))\n",
    "print('Test Accuracy : {:.4f}'.format(score[1]))"
   ]
  },
  {
   "cell_type": "code",
   "execution_count": null,
   "metadata": {},
   "outputs": [],
   "source": []
  }
 ],
 "metadata": {
  "kernelspec": {
   "display_name": "Python 3",
   "language": "python",
   "name": "python3"
  },
  "language_info": {
   "codemirror_mode": {
    "name": "ipython",
    "version": 3
   },
   "file_extension": ".py",
   "mimetype": "text/x-python",
   "name": "python",
   "nbconvert_exporter": "python",
   "pygments_lexer": "ipython3",
   "version": "3.7.4"
  }
 },
 "nbformat": 4,
 "nbformat_minor": 2
}
